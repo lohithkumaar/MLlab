{
 "cells": [
  {
   "cell_type": "code",
   "execution_count": 1,
   "id": "2a0d7902",
   "metadata": {},
   "outputs": [],
   "source": [
    "import numpy as np\n",
    "import pandas as pd"
   ]
  },
  {
   "cell_type": "code",
   "execution_count": 2,
   "id": "3c98fc2c",
   "metadata": {},
   "outputs": [],
   "source": [
    "N1 = np.array([1, 2, 3, 4])"
   ]
  },
  {
   "cell_type": "code",
   "execution_count": 3,
   "id": "742176c3",
   "metadata": {},
   "outputs": [
    {
     "data": {
      "text/plain": [
       "(4,)"
      ]
     },
     "execution_count": 3,
     "metadata": {},
     "output_type": "execute_result"
    }
   ],
   "source": [
    "N1.shape"
   ]
  },
  {
   "cell_type": "code",
   "execution_count": 4,
   "id": "e0e0455a",
   "metadata": {},
   "outputs": [
    {
     "data": {
      "text/plain": [
       "array([1, 2, 3, 4])"
      ]
     },
     "execution_count": 4,
     "metadata": {},
     "output_type": "execute_result"
    }
   ],
   "source": [
    "N1"
   ]
  },
  {
   "cell_type": "code",
   "execution_count": 5,
   "id": "c51fd38e",
   "metadata": {},
   "outputs": [
    {
     "name": "stdout",
     "output_type": "stream",
     "text": [
      "[1 2 3 4]\n"
     ]
    }
   ],
   "source": [
    "print(N1)"
   ]
  },
  {
   "cell_type": "code",
   "execution_count": 6,
   "id": "f4bccd5b",
   "metadata": {},
   "outputs": [],
   "source": [
    "N2 = np.array([(1,2,3,4),(11,22,33,44)])"
   ]
  },
  {
   "cell_type": "code",
   "execution_count": 7,
   "id": "4f67a79e",
   "metadata": {},
   "outputs": [
    {
     "data": {
      "text/plain": [
       "array([[ 1,  2,  3,  4],\n",
       "       [11, 22, 33, 44]])"
      ]
     },
     "execution_count": 7,
     "metadata": {},
     "output_type": "execute_result"
    }
   ],
   "source": [
    "N2"
   ]
  },
  {
   "cell_type": "code",
   "execution_count": 8,
   "id": "c41739d9",
   "metadata": {},
   "outputs": [
    {
     "name": "stdout",
     "output_type": "stream",
     "text": [
      "(2, 4)\n"
     ]
    },
    {
     "data": {
      "text/plain": [
       "8"
      ]
     },
     "execution_count": 8,
     "metadata": {},
     "output_type": "execute_result"
    }
   ],
   "source": [
    "print(N2.shape)\n",
    "N2.size"
   ]
  },
  {
   "cell_type": "code",
   "execution_count": 10,
   "id": "3561b3ea",
   "metadata": {},
   "outputs": [
    {
     "data": {
      "text/plain": [
       "dtype('int32')"
      ]
     },
     "execution_count": 10,
     "metadata": {},
     "output_type": "execute_result"
    }
   ],
   "source": [
    "N1.dtype"
   ]
  },
  {
   "cell_type": "code",
   "execution_count": 11,
   "id": "2c15158a",
   "metadata": {},
   "outputs": [],
   "source": [
    "NR = np.random.rand(2,4)"
   ]
  },
  {
   "cell_type": "code",
   "execution_count": 13,
   "id": "9dae9006",
   "metadata": {},
   "outputs": [
    {
     "data": {
      "text/plain": [
       "array([[0.05088471, 0.36257303, 0.38714615, 0.09349356],\n",
       "       [0.72070824, 0.06274736, 0.33092572, 0.69250526]])"
      ]
     },
     "execution_count": 13,
     "metadata": {},
     "output_type": "execute_result"
    }
   ],
   "source": [
    "NR"
   ]
  },
  {
   "cell_type": "code",
   "execution_count": 67,
   "id": "f7172574",
   "metadata": {},
   "outputs": [],
   "source": [
    "N3 = np.array([[(111,112,113),(114,115,116)],\n",
    "              [(211,212,213),(214,215,216)],\n",
    "              [(311,312,313),(314,315,316)]])"
   ]
  },
  {
   "cell_type": "code",
   "execution_count": 18,
   "id": "718586d8",
   "metadata": {},
   "outputs": [
    {
     "data": {
      "text/plain": [
       "array([[[111, 112, 113],\n",
       "        [116, 117, 117]],\n",
       "\n",
       "       [[211, 212, 213],\n",
       "        [216, 217, 218]],\n",
       "\n",
       "       [[311, 312, 313],\n",
       "        [316, 317, 318]]])"
      ]
     },
     "execution_count": 18,
     "metadata": {},
     "output_type": "execute_result"
    }
   ],
   "source": [
    "N3"
   ]
  },
  {
   "cell_type": "code",
   "execution_count": 23,
   "id": "ef9fc1b8",
   "metadata": {},
   "outputs": [
    {
     "data": {
      "text/plain": [
       "array([1, 2])"
      ]
     },
     "execution_count": 23,
     "metadata": {},
     "output_type": "execute_result"
    }
   ],
   "source": [
    "N1[-4:-2]"
   ]
  },
  {
   "cell_type": "code",
   "execution_count": 24,
   "id": "adca307e",
   "metadata": {},
   "outputs": [
    {
     "data": {
      "text/plain": [
       "array([[ 1,  2,  3,  4],\n",
       "       [11, 22, 33, 44]])"
      ]
     },
     "execution_count": 24,
     "metadata": {},
     "output_type": "execute_result"
    }
   ],
   "source": [
    "N2"
   ]
  },
  {
   "cell_type": "code",
   "execution_count": 26,
   "id": "cd3bad99",
   "metadata": {},
   "outputs": [
    {
     "data": {
      "text/plain": [
       "array([[ 1,  2,  3,  4],\n",
       "       [11, 22, 33, 44]])"
      ]
     },
     "execution_count": 26,
     "metadata": {},
     "output_type": "execute_result"
    }
   ],
   "source": [
    "N2[0:2,0:]"
   ]
  },
  {
   "cell_type": "code",
   "execution_count": 39,
   "id": "416a4e99",
   "metadata": {},
   "outputs": [
    {
     "data": {
      "text/plain": [
       "318"
      ]
     },
     "execution_count": 39,
     "metadata": {},
     "output_type": "execute_result"
    }
   ],
   "source": [
    "N3[2,1,2]"
   ]
  },
  {
   "cell_type": "code",
   "execution_count": 64,
   "id": "4ded733d",
   "metadata": {},
   "outputs": [
    {
     "data": {
      "text/plain": [
       "array([[[111, 112],\n",
       "        [116, 117]],\n",
       "\n",
       "       [[211, 212],\n",
       "        [216, 217]]])"
      ]
     },
     "execution_count": 64,
     "metadata": {},
     "output_type": "execute_result"
    }
   ],
   "source": [
    "N3[0:2,0:,0:2]"
   ]
  },
  {
   "cell_type": "code",
   "execution_count": 70,
   "id": "e6ff755d",
   "metadata": {},
   "outputs": [
    {
     "data": {
      "text/plain": [
       "array([[[111, 112, 113],\n",
       "        [114, 115, 116],\n",
       "        [211, 212, 213]],\n",
       "\n",
       "       [[214, 215, 216],\n",
       "        [311, 312, 313],\n",
       "        [314, 315, 316]]])"
      ]
     },
     "execution_count": 70,
     "metadata": {},
     "output_type": "execute_result"
    }
   ],
   "source": [
    "N3.reshape(2,3,3)"
   ]
  },
  {
   "cell_type": "code",
   "execution_count": 82,
   "id": "860511ea",
   "metadata": {},
   "outputs": [
    {
     "data": {
      "text/plain": [
       "array([-5, -3, -1,  1,  3,  5,  7,  9, 11, 13, 15, 17, 19])"
      ]
     },
     "execution_count": 82,
     "metadata": {},
     "output_type": "execute_result"
    }
   ],
   "source": [
    "np.arange(-5,20,2)"
   ]
  },
  {
   "cell_type": "code",
   "execution_count": null,
   "id": "b6779768",
   "metadata": {},
   "outputs": [],
   "source": []
  },
  {
   "cell_type": "code",
   "execution_count": null,
   "id": "b5b06ac3",
   "metadata": {},
   "outputs": [],
   "source": []
  },
  {
   "cell_type": "code",
   "execution_count": null,
   "id": "f94615cd",
   "metadata": {},
   "outputs": [],
   "source": []
  },
  {
   "cell_type": "code",
   "execution_count": null,
   "id": "72315118",
   "metadata": {},
   "outputs": [],
   "source": []
  },
  {
   "cell_type": "code",
   "execution_count": null,
   "id": "7b5e5e6c",
   "metadata": {},
   "outputs": [],
   "source": []
  },
  {
   "cell_type": "code",
   "execution_count": null,
   "id": "d635d80c",
   "metadata": {},
   "outputs": [],
   "source": []
  },
  {
   "cell_type": "code",
   "execution_count": null,
   "id": "6fdf3d1b",
   "metadata": {},
   "outputs": [],
   "source": []
  },
  {
   "cell_type": "code",
   "execution_count": 61,
   "id": "550209fd",
   "metadata": {},
   "outputs": [],
   "source": [
    "test = pd.Series(np.random.randn(5000))"
   ]
  },
  {
   "cell_type": "code",
   "execution_count": 78,
   "id": "59c5f44d",
   "metadata": {},
   "outputs": [],
   "source": [
    "test.index = range(1000,5000,4)"
   ]
  },
  {
   "cell_type": "code",
   "execution_count": 79,
   "id": "211a8937",
   "metadata": {},
   "outputs": [
    {
     "data": {
      "text/plain": [
       "<AxesSubplot:>"
      ]
     },
     "execution_count": 79,
     "metadata": {},
     "output_type": "execute_result"
    },
    {
     "data": {
      "image/png": "[encoded data removed]",
      "text/plain": [
       "<Figure size 432x288 with 1 Axes>"
      ]
     },
     "metadata": {
      "needs_background": "light"
     },
     "output_type": "display_data"
    }
   ],
   "source": [
    "test.cumsum().plot()"
   ]
  },
  {
   "cell_type": "code",
   "execution_count": 129,
   "id": "a6854aa3",
   "metadata": {},
   "outputs": [],
   "source": [
    "test2 = pd.DataFrame(np.random.randn(100, 4))\n",
    "test2.columns = ['Bangladesh', 'Pakistan', 'Srilanka', 'India']\n",
    "test2.index = pd.date_range('1/1/2022',periods=100)"
   ]
  },
  {
   "cell_type": "code",
   "execution_count": 130,
   "id": "1be01c5e",
   "metadata": {},
   "outputs": [
    {
     "data": {
      "text/plain": [
       "<AxesSubplot:>"
      ]
     },
     "execution_count": 130,
     "metadata": {},
     "output_type": "execute_result"
    },
    {
     "data": {
      "image/png": "[encoded data removed]",
      "text/plain": [
       "<Figure size 432x288 with 1 Axes>"
      ]
     },
     "metadata": {
      "needs_background": "light"
     },
     "output_type": "display_data"
    }
   ],
   "source": [
    "test2.cumsum().plot()"
   ]
  },
  {
   "cell_type": "code",
   "execution_count": 131,
   "id": "ba709471",
   "metadata": {},
   "outputs": [
    {
     "data": {
      "text/plain": [
       "<AxesSubplot:>"
      ]
     },
     "execution_count": 131,
     "metadata": {},
     "output_type": "execute_result"
    },
    {
     "data": {
      "image/png": "[encoded data removed]",
      "text/plain": [
       "<Figure size 432x288 with 1 Axes>"
      ]
     },
     "metadata": {
      "needs_background": "light"
     },
     "output_type": "display_data"
    }
   ],
   "source": [
    "test2.plot.box()"
   ]
  },
  {
   "cell_type": "code",
   "execution_count": 132,
   "id": "6a05757c",
   "metadata": {},
   "outputs": [
    {
     "data": {
      "text/plain": [
       "<AxesSubplot:xlabel='India', ylabel='Pakistan'>"
      ]
     },
     "execution_count": 132,
     "metadata": {},
     "output_type": "execute_result"
    },
    {
     "data": {
      "image/png": "[encoded data removed]",
      "text/plain": [
       "<Figure size 432x288 with 1 Axes>"
      ]
     },
     "metadata": {
      "needs_background": "light"
     },
     "output_type": "display_data"
    }
   ],
   "source": [
    "test2.plot.scatter(x='India',y='Pakistan')"
   ]
  },
  {
   "cell_type": "code",
   "execution_count": 133,
   "id": "99aca1a9",
   "metadata": {},
   "outputs": [
    {
     "data": {
      "text/plain": [
       "<AxesSubplot:ylabel='Frequency'>"
      ]
     },
     "execution_count": 133,
     "metadata": {},
     "output_type": "execute_result"
    },
    {
     "data": {
      "image/png": "[encoded data removed]",
      "text/plain": [
       "<Figure size 432x288 with 1 Axes>"
      ]
     },
     "metadata": {
      "needs_background": "light"
     },
     "output_type": "display_data"
    }
   ],
   "source": [
    "test2.plot.hist(bins=100)"
   ]
  },
  {
   "cell_type": "code",
   "execution_count": 134,
   "id": "a4f6ced1",
   "metadata": {},
   "outputs": [
    {
     "data": {
      "text/html": [
       "<div>\n",
       "<style scoped>\n",
       "    .dataframe tbody tr th:only-of-type {\n",
       "        vertical-align: middle;\n",
       "    }\n",
       "\n",
       "    .dataframe tbody tr th {\n",
       "        vertical-align: top;\n",
       "    }\n",
       "\n",
       "    .dataframe thead th {\n",
       "        text-align: right;\n",
       "    }\n",
       "</style>\n",
       "<table border=\"1\" class=\"dataframe\">\n",
       "  <thead>\n",
       "    <tr style=\"text-align: right;\">\n",
       "      <th></th>\n",
       "      <th>Bangladesh</th>\n",
       "      <th>Pakistan</th>\n",
       "      <th>Srilanka</th>\n",
       "      <th>India</th>\n",
       "    </tr>\n",
       "  </thead>\n",
       "  <tbody>\n",
       "    <tr>\n",
       "      <th>2022-01-01</th>\n",
       "      <td>1.629253</td>\n",
       "      <td>1.139099</td>\n",
       "      <td>0.306500</td>\n",
       "      <td>0.504858</td>\n",
       "    </tr>\n",
       "    <tr>\n",
       "      <th>2022-01-02</th>\n",
       "      <td>-0.315554</td>\n",
       "      <td>-0.201852</td>\n",
       "      <td>0.218112</td>\n",
       "      <td>0.935770</td>\n",
       "    </tr>\n",
       "    <tr>\n",
       "      <th>2022-01-03</th>\n",
       "      <td>-0.650241</td>\n",
       "      <td>-1.174495</td>\n",
       "      <td>-0.192804</td>\n",
       "      <td>-0.032877</td>\n",
       "    </tr>\n",
       "    <tr>\n",
       "      <th>2022-01-04</th>\n",
       "      <td>-0.903268</td>\n",
       "      <td>-1.168946</td>\n",
       "      <td>-1.226204</td>\n",
       "      <td>-0.454709</td>\n",
       "    </tr>\n",
       "    <tr>\n",
       "      <th>2022-01-05</th>\n",
       "      <td>0.463802</td>\n",
       "      <td>-0.593294</td>\n",
       "      <td>0.524125</td>\n",
       "      <td>-0.690492</td>\n",
       "    </tr>\n",
       "    <tr>\n",
       "      <th>...</th>\n",
       "      <td>...</td>\n",
       "      <td>...</td>\n",
       "      <td>...</td>\n",
       "      <td>...</td>\n",
       "    </tr>\n",
       "    <tr>\n",
       "      <th>2022-04-06</th>\n",
       "      <td>1.010659</td>\n",
       "      <td>0.465635</td>\n",
       "      <td>-2.843992</td>\n",
       "      <td>-0.914188</td>\n",
       "    </tr>\n",
       "    <tr>\n",
       "      <th>2022-04-07</th>\n",
       "      <td>0.616290</td>\n",
       "      <td>0.850784</td>\n",
       "      <td>-2.745580</td>\n",
       "      <td>1.604907</td>\n",
       "    </tr>\n",
       "    <tr>\n",
       "      <th>2022-04-08</th>\n",
       "      <td>-0.644485</td>\n",
       "      <td>-0.629069</td>\n",
       "      <td>-1.333469</td>\n",
       "      <td>-0.881497</td>\n",
       "    </tr>\n",
       "    <tr>\n",
       "      <th>2022-04-09</th>\n",
       "      <td>-1.066673</td>\n",
       "      <td>-1.438454</td>\n",
       "      <td>-0.230080</td>\n",
       "      <td>-1.037606</td>\n",
       "    </tr>\n",
       "    <tr>\n",
       "      <th>2022-04-10</th>\n",
       "      <td>-0.268479</td>\n",
       "      <td>-1.024914</td>\n",
       "      <td>-0.857626</td>\n",
       "      <td>-0.552680</td>\n",
       "    </tr>\n",
       "  </tbody>\n",
       "</table>\n",
       "<p>100 rows × 4 columns</p>\n",
       "</div>"
      ],
      "text/plain": [
       "            Bangladesh  Pakistan  Srilanka     India\n",
       "2022-01-01    1.629253  1.139099  0.306500  0.504858\n",
       "2022-01-02   -0.315554 -0.201852  0.218112  0.935770\n",
       "2022-01-03   -0.650241 -1.174495 -0.192804 -0.032877\n",
       "2022-01-04   -0.903268 -1.168946 -1.226204 -0.454709\n",
       "2022-01-05    0.463802 -0.593294  0.524125 -0.690492\n",
       "...                ...       ...       ...       ...\n",
       "2022-04-06    1.010659  0.465635 -2.843992 -0.914188\n",
       "2022-04-07    0.616290  0.850784 -2.745580  1.604907\n",
       "2022-04-08   -0.644485 -0.629069 -1.333469 -0.881497\n",
       "2022-04-09   -1.066673 -1.438454 -0.230080 -1.037606\n",
       "2022-04-10   -0.268479 -1.024914 -0.857626 -0.552680\n",
       "\n",
       "[100 rows x 4 columns]"
      ]
     },
     "execution_count": 134,
     "metadata": {},
     "output_type": "execute_result"
    }
   ],
   "source": [
    "test2"
   ]
  },
  {
   "cell_type": "code",
   "execution_count": 128,
   "id": "90a531eb",
   "metadata": {},
   "outputs": [
    {
     "data": {
      "text/plain": [
       "<AxesSubplot:>"
      ]
     },
     "execution_count": 128,
     "metadata": {},
     "output_type": "execute_result"
    },
    {
     "data": {
      "image/png": "[encoded data removed]",
      "text/plain": [
       "<Figure size 432x288 with 1 Axes>"
      ]
     },
     "metadata": {
      "needs_background": "light"
     },
     "output_type": "display_data"
    }
   ],
   "source": [
    "test2.plot.area(stacked=False)"
   ]
  },
  {
   "cell_type": "code",
   "execution_count": null,
   "id": "e5b74347",
   "metadata": {},
   "outputs": [],
   "source": []
  }
 ],
 "metadata": {
  "kernelspec": {
   "display_name": "Python 3",
   "language": "python",
   "name": "python3"
  },
  "language_info": {
   "codemirror_mode": {
    "name": "ipython",
    "version": 3
   },
   "file_extension": ".py",
   "mimetype": "text/x-python",
   "name": "python",
   "nbconvert_exporter": "python",
   "pygments_lexer": "ipython3",
   "version": "3.8.8"
  }
 },
 "nbformat": 4,
 "nbformat_minor": 5
}

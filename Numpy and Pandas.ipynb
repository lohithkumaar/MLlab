{
 "cells": [
  {
   "cell_type": "code",
   "execution_count": 1,
   "id": "2a0d7902",
   "metadata": {},
   "outputs": [],
   "source": [
    "import numpy as np\n",
    "import pandas as pd"
   ]
  },
  {
   "cell_type": "code",
   "execution_count": 2,
   "id": "3c98fc2c",
   "metadata": {},
   "outputs": [],
   "source": [
    "N1 = np.array([1, 2, 3, 4])"
   ]
  },
  {
   "cell_type": "code",
   "execution_count": 3,
   "id": "742176c3",
   "metadata": {},
   "outputs": [
    {
     "data": {
      "text/plain": [
       "(4,)"
      ]
     },
     "execution_count": 3,
     "metadata": {},
     "output_type": "execute_result"
    }
   ],
   "source": [
    "N1.shape"
   ]
  },
  {
   "cell_type": "code",
   "execution_count": 4,
   "id": "e0e0455a",
   "metadata": {},
   "outputs": [
    {
     "data": {
      "text/plain": [
       "array([1, 2, 3, 4])"
      ]
     },
     "execution_count": 4,
     "metadata": {},
     "output_type": "execute_result"
    }
   ],
   "source": [
    "N1"
   ]
  },
  {
   "cell_type": "code",
   "execution_count": 5,
   "id": "c51fd38e",
   "metadata": {},
   "outputs": [
    {
     "name": "stdout",
     "output_type": "stream",
     "text": [
      "[1 2 3 4]\n"
     ]
    }
   ],
   "source": [
    "print(N1)"
   ]
  },
  {
   "cell_type": "code",
   "execution_count": 6,
   "id": "f4bccd5b",
   "metadata": {},
   "outputs": [],
   "source": [
    "N2 = np.array([(1,2,3,4),(11,22,33,44)])"
   ]
  },
  {
   "cell_type": "code",
   "execution_count": 7,
   "id": "4f67a79e",
   "metadata": {},
   "outputs": [
    {
     "data": {
      "text/plain": [
       "array([[ 1,  2,  3,  4],\n",
       "       [11, 22, 33, 44]])"
      ]
     },
     "execution_count": 7,
     "metadata": {},
     "output_type": "execute_result"
    }
   ],
   "source": [
    "N2"
   ]
  },
  {
   "cell_type": "code",
   "execution_count": 8,
   "id": "c41739d9",
   "metadata": {},
   "outputs": [
    {
     "name": "stdout",
     "output_type": "stream",
     "text": [
      "(2, 4)\n"
     ]
    },
    {
     "data": {
      "text/plain": [
       "8"
      ]
     },
     "execution_count": 8,
     "metadata": {},
     "output_type": "execute_result"
    }
   ],
   "source": [
    "print(N2.shape)\n",
    "N2.size"
   ]
  },
  {
   "cell_type": "code",
   "execution_count": 10,
   "id": "3561b3ea",
   "metadata": {},
   "outputs": [
    {
     "data": {
      "text/plain": [
       "dtype('int32')"
      ]
     },
     "execution_count": 10,
     "metadata": {},
     "output_type": "execute_result"
    }
   ],
   "source": [
    "N1.dtype"
   ]
  },
  {
   "cell_type": "code",
   "execution_count": 11,
   "id": "53cc3e7d",
   "metadata": {},
   "outputs": [],
   "source": [
    "NR = np.random.rand(2,4)"
   ]
  },
  {
   "cell_type": "code",
   "execution_count": 13,
   "id": "a3d92fc9",
   "metadata": {},
   "outputs": [
    {
     "data": {
      "text/plain": [
       "array([[0.05088471, 0.36257303, 0.38714615, 0.09349356],\n",
       "       [0.72070824, 0.06274736, 0.33092572, 0.69250526]])"
      ]
     },
     "execution_count": 13,
     "metadata": {},
     "output_type": "execute_result"
    }
   ],
   "source": [
    "NR"
   ]
  },
  {
   "cell_type": "code",
   "execution_count": 67,
   "id": "cdf744e1",
   "metadata": {},
   "outputs": [],
   "source": [
    "N3 = np.array([[(111,112,113),(114,115,116)],\n",
    "              [(211,212,213),(214,215,216)],\n",
    "              [(311,312,313),(314,315,316)]])"
   ]
  },
  {
   "cell_type": "code",
   "execution_count": 18,
   "id": "346dec3a",
   "metadata": {},
   "outputs": [
    {
     "data": {
      "text/plain": [
       "array([[[111, 112, 113],\n",
       "        [116, 117, 117]],\n",
       "\n",
       "       [[211, 212, 213],\n",
       "        [216, 217, 218]],\n",
       "\n",
       "       [[311, 312, 313],\n",
       "        [316, 317, 318]]])"
      ]
     },
     "execution_count": 18,
     "metadata": {},
     "output_type": "execute_result"
    }
   ],
   "source": [
    "N3"
   ]
  },
  {
   "cell_type": "code",
   "execution_count": 23,
   "id": "23d34a18",
   "metadata": {},
   "outputs": [
    {
     "data": {
      "text/plain": [
       "array([1, 2])"
      ]
     },
     "execution_count": 23,
     "metadata": {},
     "output_type": "execute_result"
    }
   ],
   "source": [
    "N1[-4:-2]"
   ]
  },
  {
   "cell_type": "code",
   "execution_count": 24,
   "id": "6a87fe77",
   "metadata": {},
   "outputs": [
    {
     "data": {
      "text/plain": [
       "array([[ 1,  2,  3,  4],\n",
       "       [11, 22, 33, 44]])"
      ]
     },
     "execution_count": 24,
     "metadata": {},
     "output_type": "execute_result"
    }
   ],
   "source": [
    "N2"
   ]
  },
  {
   "cell_type": "code",
   "execution_count": 26,
   "id": "a1cfdf3f",
   "metadata": {},
   "outputs": [
    {
     "data": {
      "text/plain": [
       "array([[ 1,  2,  3,  4],\n",
       "       [11, 22, 33, 44]])"
      ]
     },
     "execution_count": 26,
     "metadata": {},
     "output_type": "execute_result"
    }
   ],
   "source": [
    "N2[0:2,0:]"
   ]
  },
  {
   "cell_type": "code",
   "execution_count": 39,
   "id": "9c9ea48e",
   "metadata": {},
   "outputs": [
    {
     "data": {
      "text/plain": [
       "318"
      ]
     },
     "execution_count": 39,
     "metadata": {},
     "output_type": "execute_result"
    }
   ],
   "source": [
    "N3[2,1,2]"
   ]
  },
  {
   "cell_type": "code",
   "execution_count": 64,
   "id": "ecdbdabc",
   "metadata": {},
   "outputs": [
    {
     "data": {
      "text/plain": [
       "array([[[111, 112],\n",
       "        [116, 117]],\n",
       "\n",
       "       [[211, 212],\n",
       "        [216, 217]]])"
      ]
     },
     "execution_count": 64,
     "metadata": {},
     "output_type": "execute_result"
    }
   ],
   "source": [
    "N3[0:2,0:,0:2]"
   ]
  },
  {
   "cell_type": "code",
   "execution_count": 70,
   "id": "597f0485",
   "metadata": {},
   "outputs": [
    {
     "data": {
      "text/plain": [
       "array([[[111, 112, 113],\n",
       "        [114, 115, 116],\n",
       "        [211, 212, 213]],\n",
       "\n",
       "       [[214, 215, 216],\n",
       "        [311, 312, 313],\n",
       "        [314, 315, 316]]])"
      ]
     },
     "execution_count": 70,
     "metadata": {},
     "output_type": "execute_result"
    }
   ],
   "source": [
    "N3.reshape(2,3,3)"
   ]
  },
  {
   "cell_type": "code",
   "execution_count": 82,
   "id": "d3e25e8c",
   "metadata": {},
   "outputs": [
    {
     "data": {
      "text/plain": [
       "array([-5, -3, -1,  1,  3,  5,  7,  9, 11, 13, 15, 17, 19])"
      ]
     },
     "execution_count": 82,
     "metadata": {},
     "output_type": "execute_result"
    }
   ],
   "source": [
    "np.arange(-5,20,2)"
   ]
  },
  {
   "cell_type": "code",
   "execution_count": null,
   "id": "43a2af79",
   "metadata": {},
   "outputs": [],
   "source": []
  },
  {
   "cell_type": "code",
   "execution_count": null,
   "id": "588e8ada",
   "metadata": {},
   "outputs": [],
   "source": []
  },
  {
   "cell_type": "code",
   "execution_count": null,
   "id": "091dc286",
   "metadata": {},
   "outputs": [],
   "source": []
  },
  {
   "cell_type": "code",
   "execution_count": null,
   "id": "d6985782",
   "metadata": {},
   "outputs": [],
   "source": []
  },
  {
   "cell_type": "code",
   "execution_count": null,
   "id": "024b2098",
   "metadata": {},
   "outputs": [],
   "source": []
  },
  {
   "cell_type": "code",
   "execution_count": null,
   "id": "83e7cc78",
   "metadata": {},
   "outputs": [],
   "source": []
  },
  {
   "cell_type": "code",
   "execution_count": null,
   "id": "c68fab35",
   "metadata": {},
   "outputs": [],
   "source": []
  },
  {
   "cell_type": "code",
   "execution_count": 61,
   "id": "4666d931",
   "metadata": {},
   "outputs": [],
   "source": [
    "test = pd.Series(np.random.randn(5000))"
   ]
  },
  {
   "cell_type": "code",
   "execution_count": 78,
   "id": "8a3f4b2e",
   "metadata": {},
   "outputs": [],
   "source": [
    "test.index = range(1000,5000,4)"
   ]
  },
  {
   "cell_type": "code",
   "execution_count": 79,
   "id": "71cb8105",
   "metadata": {},
   "outputs": [
    {
     "data": {
      "text/plain": [
       "<AxesSubplot:>"
      ]
     },
     "execution_count": 79,
     "metadata": {},
     "output_type": "execute_result"
    },
    {
     "data": {
      "image/png": "[encoded data removed]",
      "text/plain": [
       "<Figure size 432x288 with 1 Axes>"
      ]
     },
     "metadata": {
      "needs_background": "light"
     },
     "output_type": "display_data"
    }
   ],
   "source": [
    "test.cumsum().plot()"
   ]
  },
  {
   "cell_type": "code",
   "execution_count": 95,
   "id": "7aba7eac",
   "metadata": {},
   "outputs": [],
   "source": [
    "test2 = pd.DataFrame(np.random.randn(50, 4))\n",
    "test2.columns = ['Bangladesh', 'Pakistan', 'Srilanka', 'India']"
   ]
  },
  {
   "cell_type": "code",
   "execution_count": 90,
   "id": "d2c39bda",
   "metadata": {},
   "outputs": [
    {
     "data": {
      "text/plain": [
       "<AxesSubplot:>"
      ]
     },
     "execution_count": 90,
     "metadata": {},
     "output_type": "execute_result"
    },
    {
     "data": {
      "image/png": "[encoded data removed]",
      "text/plain": [
       "<Figure size 432x288 with 1 Axes>"
      ]
     },
     "metadata": {
      "needs_background": "light"
     },
     "output_type": "display_data"
    }
   ],
   "source": [
    "test2.cumsum().plot()"
   ]
  },
  {
   "cell_type": "code",
   "execution_count": 97,
   "id": "81117ec2",
   "metadata": {},
   "outputs": [
    {
     "data": {
      "text/plain": [
       "<AxesSubplot:>"
      ]
     },
     "execution_count": 97,
     "metadata": {},
     "output_type": "execute_result"
    },
    {
     "data": {
      "image/png": "[encoded data removed]",
      "text/plain": [
       "<Figure size 432x288 with 1 Axes>"
      ]
     },
     "metadata": {
      "needs_background": "light"
     },
     "output_type": "display_data"
    }
   ],
   "source": [
    "test2.plot.box()"
   ]
  },
  {
   "cell_type": "code",
   "execution_count": 96,
   "id": "0921e328",
   "metadata": {},
   "outputs": [
    {
     "data": {
      "text/plain": [
       "<AxesSubplot:xlabel='India', ylabel='Pakistan'>"
      ]
     },
     "execution_count": 96,
     "metadata": {},
     "output_type": "execute_result"
    },
    {
     "data": {
      "image/png": "[encoded data removed]",
      "text/plain": [
       "<Figure size 432x288 with 1 Axes>"
      ]
     },
     "metadata": {
      "needs_background": "light"
     },
     "output_type": "display_data"
    }
   ],
   "source": [
    "test2.plot.scatter(x='India',y='Pakistan')"
   ]
  },
  {
   "cell_type": "code",
   "execution_count": null,
   "id": "510b2dca",
   "metadata": {},
   "outputs": [],
   "source": []
  }
 ],
 "metadata": {
  "kernelspec": {
   "display_name": "Python 3",
   "language": "python",
   "name": "python3"
  },
  "language_info": {
   "codemirror_mode": {
    "name": "ipython",
    "version": 3
   },
   "file_extension": ".py",
   "mimetype": "text/x-python",
   "name": "python",
   "nbconvert_exporter": "python",
   "pygments_lexer": "ipython3",
   "version": "3.8.8"
  }
 },
 "nbformat": 4,
 "nbformat_minor": 5
}

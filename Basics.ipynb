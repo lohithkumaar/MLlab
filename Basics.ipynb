{
 "cells": [
  {
   "cell_type": "code",
   "execution_count": 4,
   "id": "f684f15a",
   "metadata": {},
   "outputs": [],
   "source": [
    "a = []"
   ]
  },
  {
   "cell_type": "code",
   "execution_count": 9,
   "id": "753b13c5",
   "metadata": {},
   "outputs": [],
   "source": [
    "a.append('a')"
   ]
  },
  {
   "cell_type": "code",
   "execution_count": 11,
   "id": "5aaf3d16",
   "metadata": {},
   "outputs": [
    {
     "name": "stdout",
     "output_type": "stream",
     "text": [
      "['a', 'a']\n"
     ]
    }
   ],
   "source": [
    "print(a)"
   ]
  },
  {
   "cell_type": "code",
   "execution_count": 12,
   "id": "1497d74f",
   "metadata": {},
   "outputs": [],
   "source": [
    "b = ['a',1,2,3,4,5,'b']"
   ]
  },
  {
   "cell_type": "code",
   "execution_count": 15,
   "id": "69e701f6",
   "metadata": {},
   "outputs": [
    {
     "data": {
      "text/plain": [
       "['a', 1, 2, 3, 4, 5, 'b']"
      ]
     },
     "execution_count": 15,
     "metadata": {},
     "output_type": "execute_result"
    }
   ],
   "source": [
    "b"
   ]
  },
  {
   "cell_type": "code",
   "execution_count": 28,
   "id": "2d41b076",
   "metadata": {},
   "outputs": [
    {
     "data": {
      "text/plain": [
       "['a', 1, 2]"
      ]
     },
     "execution_count": 28,
     "metadata": {},
     "output_type": "execute_result"
    }
   ],
   "source": [
    "b[0:3]"
   ]
  },
  {
   "cell_type": "code",
   "execution_count": 21,
   "id": "c2cc44c9",
   "metadata": {},
   "outputs": [],
   "source": [
    "s = \"Lohith\""
   ]
  },
  {
   "cell_type": "code",
   "execution_count": 25,
   "id": "f6c6947e",
   "metadata": {},
   "outputs": [
    {
     "data": {
      "text/plain": [
       "'h'"
      ]
     },
     "execution_count": 25,
     "metadata": {},
     "output_type": "execute_result"
    }
   ],
   "source": [
    "s[2]"
   ]
  },
  {
   "cell_type": "code",
   "execution_count": 29,
   "id": "47069193",
   "metadata": {},
   "outputs": [
    {
     "data": {
      "text/plain": [
       "list"
      ]
     },
     "execution_count": 29,
     "metadata": {},
     "output_type": "execute_result"
    }
   ],
   "source": [
    "type(a)"
   ]
  },
  {
   "cell_type": "code",
   "execution_count": 30,
   "id": "c5bfdbb0",
   "metadata": {},
   "outputs": [
    {
     "data": {
      "text/plain": [
       "6"
      ]
     },
     "execution_count": 30,
     "metadata": {},
     "output_type": "execute_result"
    }
   ],
   "source": [
    "len(s)"
   ]
  },
  {
   "cell_type": "code",
   "execution_count": 34,
   "id": "7f2cbb68",
   "metadata": {},
   "outputs": [],
   "source": [
    "import numpy as np"
   ]
  },
  {
   "cell_type": "code",
   "execution_count": 60,
   "id": "b26d0148",
   "metadata": {},
   "outputs": [],
   "source": [
    "some_array = np.array([[1,2,3,4,5],[6,7,8,9,10],[11,12,13,14,15]])"
   ]
  },
  {
   "cell_type": "code",
   "execution_count": 61,
   "id": "b4d7fc99",
   "metadata": {},
   "outputs": [
    {
     "data": {
      "text/plain": [
       "dtype('int32')"
      ]
     },
     "execution_count": 61,
     "metadata": {},
     "output_type": "execute_result"
    }
   ],
   "source": [
    "some_array.dtype"
   ]
  },
  {
   "cell_type": "code",
   "execution_count": 62,
   "id": "a6f23271",
   "metadata": {},
   "outputs": [
    {
     "data": {
      "text/plain": [
       "4"
      ]
     },
     "execution_count": 62,
     "metadata": {},
     "output_type": "execute_result"
    }
   ],
   "source": [
    "some_array.itemsize"
   ]
  },
  {
   "cell_type": "code",
   "execution_count": 64,
   "id": "8f8d26e9",
   "metadata": {},
   "outputs": [],
   "source": [
    "some_array = np.empty((3,5))"
   ]
  },
  {
   "cell_type": "code",
   "execution_count": 65,
   "id": "64c72ad0",
   "metadata": {},
   "outputs": [
    {
     "data": {
      "text/plain": [
       "array([[0., 0., 0., 0., 0.],\n",
       "       [0., 0., 0., 0., 0.],\n",
       "       [0., 0., 0., 0., 0.]])"
      ]
     },
     "execution_count": 65,
     "metadata": {},
     "output_type": "execute_result"
    }
   ],
   "source": [
    "some_array"
   ]
  },
  {
   "cell_type": "code",
   "execution_count": 76,
   "id": "ff711d6d",
   "metadata": {},
   "outputs": [],
   "source": [
    "some_array_random = np.random.rand(5,3)"
   ]
  },
  {
   "cell_type": "code",
   "execution_count": 77,
   "id": "7bcadc21",
   "metadata": {},
   "outputs": [
    {
     "data": {
      "text/plain": [
       "array([[0.00127158, 0.1680508 , 0.88226003],\n",
       "       [0.65462782, 0.59471705, 0.75949414],\n",
       "       [0.82232258, 0.85244863, 0.86877879],\n",
       "       [0.0386272 , 0.1672016 , 0.82919968],\n",
       "       [0.40269846, 0.85322489, 0.7322    ]])"
      ]
     },
     "execution_count": 77,
     "metadata": {},
     "output_type": "execute_result"
    }
   ],
   "source": [
    "some_array_random"
   ]
  },
  {
   "cell_type": "code",
   "execution_count": 80,
   "id": "e3425cc8",
   "metadata": {},
   "outputs": [],
   "source": [
    "some_array = np.arange(0, 100, 2)"
   ]
  },
  {
   "cell_type": "code",
   "execution_count": 82,
   "id": "a9906790",
   "metadata": {},
   "outputs": [],
   "source": [
    "some_array = np.random.normal(5,2)"
   ]
  },
  {
   "cell_type": "code",
   "execution_count": 83,
   "id": "219f7df7",
   "metadata": {},
   "outputs": [
    {
     "data": {
      "text/plain": [
       "4.827276192185546"
      ]
     },
     "execution_count": 83,
     "metadata": {},
     "output_type": "execute_result"
    }
   ],
   "source": [
    "some_array"
   ]
  },
  {
   "cell_type": "code",
   "execution_count": 112,
   "id": "0c24be68",
   "metadata": {},
   "outputs": [],
   "source": [
    "some_rand = np.linspace(-1, 1, 500)"
   ]
  },
  {
   "cell_type": "code",
   "execution_count": 109,
   "id": "5f23e862",
   "metadata": {},
   "outputs": [
    {
     "data": {
      "text/plain": [
       "array([-1.        , -0.98994975, -0.9798995 , -0.96984925, -0.95979899,\n",
       "       -0.94974874, -0.93969849, -0.92964824, -0.91959799, -0.90954774,\n",
       "       -0.89949749, -0.88944724, -0.87939698, -0.86934673, -0.85929648,\n",
       "       -0.84924623, -0.83919598, -0.82914573, -0.81909548, -0.80904523,\n",
       "       -0.79899497, -0.78894472, -0.77889447, -0.76884422, -0.75879397,\n",
       "       -0.74874372, -0.73869347, -0.72864322, -0.71859296, -0.70854271,\n",
       "       -0.69849246, -0.68844221, -0.67839196, -0.66834171, -0.65829146,\n",
       "       -0.64824121, -0.63819095, -0.6281407 , -0.61809045, -0.6080402 ,\n",
       "       -0.59798995, -0.5879397 , -0.57788945, -0.5678392 , -0.55778894,\n",
       "       -0.54773869, -0.53768844, -0.52763819, -0.51758794, -0.50753769,\n",
       "       -0.49748744, -0.48743719, -0.47738693, -0.46733668, -0.45728643,\n",
       "       -0.44723618, -0.43718593, -0.42713568, -0.41708543, -0.40703518,\n",
       "       -0.39698492, -0.38693467, -0.37688442, -0.36683417, -0.35678392,\n",
       "       -0.34673367, -0.33668342, -0.32663317, -0.31658291, -0.30653266,\n",
       "       -0.29648241, -0.28643216, -0.27638191, -0.26633166, -0.25628141,\n",
       "       -0.24623116, -0.2361809 , -0.22613065, -0.2160804 , -0.20603015,\n",
       "       -0.1959799 , -0.18592965, -0.1758794 , -0.16582915, -0.15577889,\n",
       "       -0.14572864, -0.13567839, -0.12562814, -0.11557789, -0.10552764,\n",
       "       -0.09547739, -0.08542714, -0.07537688, -0.06532663, -0.05527638,\n",
       "       -0.04522613, -0.03517588, -0.02512563, -0.01507538, -0.00502513,\n",
       "        0.00502513,  0.01507538,  0.02512563,  0.03517588,  0.04522613,\n",
       "        0.05527638,  0.06532663,  0.07537688,  0.08542714,  0.09547739,\n",
       "        0.10552764,  0.11557789,  0.12562814,  0.13567839,  0.14572864,\n",
       "        0.15577889,  0.16582915,  0.1758794 ,  0.18592965,  0.1959799 ,\n",
       "        0.20603015,  0.2160804 ,  0.22613065,  0.2361809 ,  0.24623116,\n",
       "        0.25628141,  0.26633166,  0.27638191,  0.28643216,  0.29648241,\n",
       "        0.30653266,  0.31658291,  0.32663317,  0.33668342,  0.34673367,\n",
       "        0.35678392,  0.36683417,  0.37688442,  0.38693467,  0.39698492,\n",
       "        0.40703518,  0.41708543,  0.42713568,  0.43718593,  0.44723618,\n",
       "        0.45728643,  0.46733668,  0.47738693,  0.48743719,  0.49748744,\n",
       "        0.50753769,  0.51758794,  0.52763819,  0.53768844,  0.54773869,\n",
       "        0.55778894,  0.5678392 ,  0.57788945,  0.5879397 ,  0.59798995,\n",
       "        0.6080402 ,  0.61809045,  0.6281407 ,  0.63819095,  0.64824121,\n",
       "        0.65829146,  0.66834171,  0.67839196,  0.68844221,  0.69849246,\n",
       "        0.70854271,  0.71859296,  0.72864322,  0.73869347,  0.74874372,\n",
       "        0.75879397,  0.76884422,  0.77889447,  0.78894472,  0.79899497,\n",
       "        0.80904523,  0.81909548,  0.82914573,  0.83919598,  0.84924623,\n",
       "        0.85929648,  0.86934673,  0.87939698,  0.88944724,  0.89949749,\n",
       "        0.90954774,  0.91959799,  0.92964824,  0.93969849,  0.94974874,\n",
       "        0.95979899,  0.96984925,  0.9798995 ,  0.98994975,  1.        ])"
      ]
     },
     "execution_count": 109,
     "metadata": {},
     "output_type": "execute_result"
    }
   ],
   "source": [
    "some_rand"
   ]
  },
  {
   "cell_type": "code",
   "execution_count": 128,
   "id": "cb56f7e3",
   "metadata": {},
   "outputs": [],
   "source": [
    "some_random_series = np.random.normal(-75, 50, 5)"
   ]
  },
  {
   "cell_type": "code",
   "execution_count": 129,
   "id": "0f35f827",
   "metadata": {},
   "outputs": [
    {
     "data": {
      "text/plain": [
       "array([ -50.64699601, -128.10259032, -156.70420894,  -70.81967714,\n",
       "        -21.71543968])"
      ]
     },
     "execution_count": 129,
     "metadata": {},
     "output_type": "execute_result"
    }
   ],
   "source": [
    "some_random_series"
   ]
  },
  {
   "cell_type": "code",
   "execution_count": null,
   "id": "9d1a12a0",
   "metadata": {},
   "outputs": [],
   "source": [
    "from matplotlib import pyplot as plt"
   ]
  },
  {
   "cell_type": "code",
   "execution_count": 137,
   "id": "9d62a81c",
   "metadata": {},
   "outputs": [],
   "source": [
    "import matplotlib.pyplot as plt"
   ]
  },
  {
   "cell_type": "code",
   "execution_count": 149,
   "id": "c4f3f31c",
   "metadata": {},
   "outputs": [
    {
     "data": {
      "text/plain": [
       "<matplotlib.legend.Legend at 0x221bab56d90>"
      ]
     },
     "execution_count": 149,
     "metadata": {},
     "output_type": "execute_result"
    },
    {
     "data": {
      "image/png": "[encoded data removed]",
      "text/plain": [
       "<Figure size 432x288 with 1 Axes>"
      ]
     },
     "metadata": {
      "needs_background": "light"
     },
     "output_type": "display_data"
    }
   ],
   "source": [
    "plt.xlabel(\"Depenent Variable\")\n",
    "plt.ylabel(\"Independent Variable\")\n",
    "plt.plot(some_random_series,label='Random Series',c='0.25')\n",
    "plt.legend()"
   ]
  },
  {
   "cell_type": "code",
   "execution_count": 148,
   "id": "c7b0eafd",
   "metadata": {},
   "outputs": [
    {
     "data": {
      "text/plain": [
       "[<matplotlib.lines.Line2D at 0x221bab87250>]"
      ]
     },
     "execution_count": 148,
     "metadata": {},
     "output_type": "execute_result"
    },
    {
     "data": {
      "image/png": "[encoded data removed]",
      "text/plain": [
       "<Figure size 432x288 with 1 Axes>"
      ]
     },
     "metadata": {
      "needs_background": "light"
     },
     "output_type": "display_data"
    }
   ],
   "source": [
    "some_sort = np.sort(some_random_series)\n",
    "plt.plot(some_sort, c='0.25')"
   ]
  },
  {
   "cell_type": "code",
   "execution_count": 134,
   "id": "b79daabb",
   "metadata": {},
   "outputs": [],
   "source": [
    "t = (1,\"Lohith\",2,3.5,[11,12,13,14])"
   ]
  },
  {
   "cell_type": "code",
   "execution_count": 135,
   "id": "7f2da99a",
   "metadata": {},
   "outputs": [
    {
     "data": {
      "text/plain": [
       "(1, 'Lohith', 2, 3.5, [11, 12, 13, 14])"
      ]
     },
     "execution_count": 135,
     "metadata": {},
     "output_type": "execute_result"
    }
   ],
   "source": [
    "t"
   ]
  },
  {
   "cell_type": "code",
   "execution_count": 138,
   "id": "526874a8",
   "metadata": {},
   "outputs": [],
   "source": [
    "u = (5,\"Lohith\",2,4,5,7)"
   ]
  },
  {
   "cell_type": "code",
   "execution_count": 139,
   "id": "a4bb14d6",
   "metadata": {},
   "outputs": [],
   "source": [
    "p = t+u"
   ]
  },
  {
   "cell_type": "code",
   "execution_count": 140,
   "id": "0dfaa427",
   "metadata": {},
   "outputs": [
    {
     "data": {
      "text/plain": [
       "(1, 'Lohith', 2, 3.5, [11, 12, 13, 14], 5, 'Lohith', 2, 4, 5, 7)"
      ]
     },
     "execution_count": 140,
     "metadata": {},
     "output_type": "execute_result"
    }
   ],
   "source": [
    "p"
   ]
  },
  {
   "cell_type": "code",
   "execution_count": null,
   "id": "bceeb3cf",
   "metadata": {},
   "outputs": [],
   "source": []
  },
  {
   "cell_type": "code",
   "execution_count": null,
   "id": "18985634",
   "metadata": {},
   "outputs": [],
   "source": []
  }
 ],
 "metadata": {
  "kernelspec": {
   "display_name": "Python 3",
   "language": "python",
   "name": "python3"
  },
  "language_info": {
   "codemirror_mode": {
    "name": "ipython",
    "version": 3
   },
   "file_extension": ".py",
   "mimetype": "text/x-python",
   "name": "python",
   "nbconvert_exporter": "python",
   "pygments_lexer": "ipython3",
   "version": "3.8.8"
  }
 },
 "nbformat": 4,
 "nbformat_minor": 5
}
